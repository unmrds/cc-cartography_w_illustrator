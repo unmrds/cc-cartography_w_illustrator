{
 "cells": [
  {
   "cell_type": "markdown",
   "metadata": {},
   "source": [
    "# Cartographic Principles\n",
    "---------------------------------------------------------------"
   ]
  },
  {
   "cell_type": "markdown",
   "metadata": {},
   "source": [
    "## References\n",
    "\n",
    "This introduction is based on concepts discussed in the following resources, along with data from the _The Astronomy Nexus_, by David Nash.\n",
    "\n",
    "* Buckley, Aileen (2011). \"Design principles for cartography.\" _ArcGIS Blog_. Accessed 2019-11-14 from <https://www.esri.com/arcgis-blog/products/product/mapping/design-principles-for-cartography/>.\n",
    "\n",
    "* Nash, David (2006). \"The HYG Database.\" _The Astronomy Nexus_. Accessed 2019-11-14 from <http://www.astronexus.com/hyg>.\n",
    "\n",
    "* Saylor Academy (2012). _Essentials of Geographic Information Systems v. 1.0_. Accessed 2019-11-14 from <https://saylordotorg.github.io/text_essentials-of-geographic-information-systems/index.html>. \n",
    "\n"
   ]
  },
  {
   "cell_type": "markdown",
   "metadata": {},
   "source": [
    "## This is a map of bright stars in the constellation Cygnus:"
   ]
  },
  {
   "cell_type": "markdown",
   "metadata": {},
   "source": [
    "![Map of Cygnus](./images/map_demo.png)"
   ]
  },
  {
   "cell_type": "markdown",
   "metadata": {},
   "source": [
    "## This is _also_ a map of bright stars in the constellation Cygnus:"
   ]
  },
  {
   "cell_type": "markdown",
   "metadata": {},
   "source": [
    "![Map of Cygnus](./images/flamsteed_cygnus.jpg)"
   ]
  },
  {
   "cell_type": "markdown",
   "metadata": {},
   "source": [
    "One is (slightly) more realistic, but the other is much more informative. Representing spatial information visually requires us to make choices about shape and color, as well as symbology, contrast, and how to characterize and present complex information in a way that is both visually appealing and easy to understand."
   ]
  },
  {
   "cell_type": "code",
   "execution_count": null,
   "metadata": {
    "collapsed": true,
    "jupyter": {
     "outputs_hidden": true
    }
   },
   "outputs": [],
   "source": []
  }
 ],
 "metadata": {
  "kernelspec": {
   "display_name": "Python 3",
   "language": "python",
   "name": "python3"
  },
  "language_info": {
   "codemirror_mode": {
    "name": "ipython",
    "version": 3
   },
   "file_extension": ".py",
   "mimetype": "text/x-python",
   "name": "python",
   "nbconvert_exporter": "python",
   "pygments_lexer": "ipython3",
   "version": "3.8.8"
  }
 },
 "nbformat": 4,
 "nbformat_minor": 4
}
